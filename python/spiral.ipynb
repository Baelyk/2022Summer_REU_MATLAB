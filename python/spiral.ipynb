{
 "cells": [
  {
   "cell_type": "code",
   "execution_count": 2,
   "id": "0f319a86",
   "metadata": {},
   "outputs": [],
   "source": [
    "def spiral(e):\n",
    "    import matplotlib.pyplot as plt\n",
    "    import numpy as np\n",
    "    # length of coords = 2/e+2\n",
    "    coords = [[0,0], [1,0], [1,1], [0,1]]\n",
    "    ns = [None]*int(2/e-2)\n",
    "    coords.extend(ns)\n",
    "    for i in range(4,len(coords)):\n",
    "#         if i>=2/e+2:\n",
    "#             coords=coords[:i]\n",
    "#             plt.plot([i[0] for i in coords],[i[1] for i in coords], '-o')\n",
    "#             break\n",
    "        if i%4==0:\n",
    "            coords[i] = [coords[i-1][0],coords[i-4][1]+e]\n",
    "        elif i%4==1:\n",
    "            coords[i] = [coords[i-4][0]-e,coords[i-1][1]]\n",
    "        elif i%4==2:\n",
    "            coords[i] = [coords[i-1][0],coords[i-4][1]-e]\n",
    "        else:\n",
    "            coords[i] = [coords[i-4][0]+e,coords[i-1][1]]\n",
    "    plt.plot([i[0] for i in coords],[i[1] for i in coords], '-o')\n",
    "    return np.array([np.array(i) for i in coords])"
   ]
  },
  {
   "cell_type": "code",
   "execution_count": 3,
   "id": "03c87370",
   "metadata": {},
   "outputs": [
    {
     "data": {
      "image/png": "[encoded data removed]",
      "text/plain": [
       "<Figure size 432x288 with 1 Axes>"
      ]
     },
     "metadata": {
      "needs_background": "light"
     },
     "output_type": "display_data"
    }
   ],
   "source": [
    "coords = spiral(e=1/4)"
   ]
  },
  {
   "cell_type": "code",
   "execution_count": 4,
   "id": "46f62b2b",
   "metadata": {},
   "outputs": [
    {
     "data": {
      "text/plain": [
       "array([[0.  , 0.  ],\n",
       "       [1.  , 0.  ],\n",
       "       [1.  , 1.  ],\n",
       "       [0.  , 1.  ],\n",
       "       [0.  , 0.25],\n",
       "       [0.75, 0.25],\n",
       "       [0.75, 0.75],\n",
       "       [0.25, 0.75],\n",
       "       [0.25, 0.5 ],\n",
       "       [0.5 , 0.5 ]])"
      ]
     },
     "execution_count": 4,
     "metadata": {},
     "output_type": "execute_result"
    }
   ],
   "source": [
    "coords"
   ]
  },
  {
   "cell_type": "code",
   "execution_count": 18,
   "id": "48272581",
   "metadata": {},
   "outputs": [
    {
     "data": {
      "text/plain": [
       "'(j[0], j[1]), (j[1], j[2]), (j[2], j[3]), (j[3], j[4]), (j[4], j[5]), (j[5], j[6]), (j[6], j[7]), (j[7], j[8]), (j[8], j[9]), (j[9], j[10]), (j[10], j[11]), (j[11], j[12]), (j[12], j[13]), (j[13], j[14]), (j[14], j[15]), (j[15], j[16]), (j[16], j[17]), (j[17], j[18]), (j[18], j[19]), (j[19], j[20]), (j[20], j[21]), (j[21], j[22]), (j[22], j[23]), (j[23], j[24]), (j[24], j[25]), (j[25], j[26]), (j[26], j[27]), (j[27], j[28]), (j[28], j[29]), (j[29], j[30]), (j[30], j[31]), (j[31], j[32]), (j[32], j[33])'"
      ]
     },
     "execution_count": 18,
     "metadata": {},
     "output_type": "execute_result"
    }
   ],
   "source": [
    "my_string=''\n",
    "for i in range(len([tuple(i) for i in coords])-1):\n",
    "    my_string+='(j['\n",
    "    my_string+=str(i)\n",
    "    my_string+='], j['\n",
    "    my_string+=str(i+1)\n",
    "    my_string+=']), '\n",
    "my_string[:-2]"
   ]
  },
  {
   "cell_type": "code",
   "execution_count": 16,
   "id": "f29eb122",
   "metadata": {},
   "outputs": [
    {
     "data": {
      "text/plain": [
       "[(0.0, 0.0),\n",
       " (1.0, 0.0),\n",
       " (1.0, 1.0),\n",
       " (0.0, 1.0),\n",
       " (0.0, 0.0625),\n",
       " (0.9375, 0.0625),\n",
       " (0.9375, 0.9375),\n",
       " (0.0625, 0.9375),\n",
       " (0.0625, 0.125),\n",
       " (0.875, 0.125),\n",
       " (0.875, 0.875),\n",
       " (0.125, 0.875),\n",
       " (0.125, 0.1875),\n",
       " (0.8125, 0.1875),\n",
       " (0.8125, 0.8125),\n",
       " (0.1875, 0.8125),\n",
       " (0.1875, 0.25),\n",
       " (0.75, 0.25),\n",
       " (0.75, 0.75),\n",
       " (0.25, 0.75),\n",
       " (0.25, 0.3125),\n",
       " (0.6875, 0.3125),\n",
       " (0.6875, 0.6875),\n",
       " (0.3125, 0.6875),\n",
       " (0.3125, 0.375),\n",
       " (0.625, 0.375),\n",
       " (0.625, 0.625),\n",
       " (0.375, 0.625),\n",
       " (0.375, 0.4375),\n",
       " (0.5625, 0.4375),\n",
       " (0.5625, 0.5625),\n",
       " (0.4375, 0.5625),\n",
       " (0.4375, 0.5),\n",
       " (0.5, 0.5)]"
      ]
     },
     "execution_count": 16,
     "metadata": {},
     "output_type": "execute_result"
    }
   ],
   "source": [
    "[tuple(i) for i in coords]"
   ]
  },
  {
   "cell_type": "code",
   "execution_count": 17,
   "id": "ba26edd5",
   "metadata": {},
   "outputs": [
    {
     "data": {
      "text/plain": [
       "34"
      ]
     },
     "execution_count": 17,
     "metadata": {},
     "output_type": "execute_result"
    }
   ],
   "source": [
    "len([tuple(i) for i in coords])"
   ]
  },
  {
   "cell_type": "code",
   "execution_count": 9,
   "id": "a1e5ce2b",
   "metadata": {},
   "outputs": [
    {
     "name": "stdout",
     "output_type": "stream",
     "text": [
      "10\n"
     ]
    },
    {
     "data": {
      "image/png": "[encoded data removed]",
      "text/plain": [
       "<Figure size 432x288 with 1 Axes>"
      ]
     },
     "metadata": {
      "needs_background": "light"
     },
     "output_type": "display_data"
    }
   ],
   "source": [
    "coords = spiral(e=1/4)\n",
    "print(len(coords))"
   ]
  },
  {
   "cell_type": "code",
   "execution_count": 10,
   "id": "27598c10",
   "metadata": {},
   "outputs": [
    {
     "name": "stdout",
     "output_type": "stream",
     "text": [
      "10 36\n"
     ]
    }
   ],
   "source": [
    "import numpy as np\n",
    "# eq=0\n",
    "# ineq=0\n",
    "e=1/4\n",
    "length = len(coords)\n",
    "dummy = int((2/e+1)/e)\n",
    "# dummy = length-1\n",
    "print(length,dummy)\n",
    "ct=0\n",
    "A=[]\n",
    "for i in range(len(coords)):\n",
    "    for j in range(i+1,len(coords)):\n",
    "        row=[0]*(2*length+dummy)\n",
    "        row[i*2]   = coords[i][0]-coords[j][0]\n",
    "        row[i*2+1] = coords[i][1]-coords[j][1]\n",
    "        row[j*2]   = coords[j][0]-coords[i][0]\n",
    "        row[j*2+1]   = coords[j][1]-coords[i][1]\n",
    "        if j-i==1:\n",
    "#             print(f'{i} and {j} are connected by an edge')\n",
    "#             print(f'(v{i}-v{j})(p{i}-p{j})=0')\n",
    "#             eq+=1\n",
    "            row[2*length+ct]=1\n",
    "#             print(2*length+ct)\n",
    "            ct+=1\n",
    "        else:\n",
    "#             print(f'{i} and {j} are NOT connected by an edge')\n",
    "#             print(f'(v{i}-v{j})(p{i}-p{j})>0')\n",
    "#             ineq+=1\n",
    "            pass\n",
    "#         print(row)\n",
    "        A.append(row)\n",
    "A = np.array(A)"
   ]
  },
  {
   "cell_type": "code",
   "execution_count": 61,
   "id": "311958ae",
   "metadata": {},
   "outputs": [
    {
     "name": "stdout",
     "output_type": "stream",
     "text": [
      "[[-1.  0.  1. ...  0.  0.  0.]\n",
      " [-1. -1.  0. ...  0.  0.  0.]\n",
      " [ 0. -1.  0. ...  0.  0.  0.]\n",
      " ...\n",
      " [ 0.  0.  0. ...  0.  0.  0.]\n",
      " [ 0.  0.  0. ...  0.  0.  0.]\n",
      " [ 0.  0.  0. ...  0.  0.  0.]]\n"
     ]
    }
   ],
   "source": [
    "print(A)"
   ]
  },
  {
   "cell_type": "code",
   "execution_count": null,
   "id": "7584c490",
   "metadata": {},
   "outputs": [],
   "source": [
    "# coords=np.array([np.array(i) for i in coords])\n",
    "# coords[2]@coords[8]"
   ]
  },
  {
   "cell_type": "code",
   "execution_count": null,
   "id": "ca57e7a5",
   "metadata": {},
   "outputs": [],
   "source": []
  },
  {
   "cell_type": "code",
   "execution_count": 50,
   "id": "b98d802f",
   "metadata": {},
   "outputs": [
    {
     "data": {
      "text/plain": [
       "(array([0.25, 0.5 ]), array([0.  , 0.25]))"
      ]
     },
     "execution_count": 50,
     "metadata": {},
     "output_type": "execute_result"
    }
   ],
   "source": [
    "coords[8], coords[4]"
   ]
  },
  {
   "cell_type": "code",
   "execution_count": 55,
   "id": "602bd0d4",
   "metadata": {},
   "outputs": [],
   "source": [
    "def fun(x,e=1/4,p=coords):\n",
    "    import math\n",
    "    x=x[:-int((2/e+1)/e)]\n",
    "    part1 = sum([i**2 for i in x])\n",
    "    part2 = 0\n",
    "    for i in range(len(p)):\n",
    "        for j in range(i+1, len(p)):\n",
    "            if j-i!=1:\n",
    "                vi = np.array([x[i*2], x[i*2+1]])\n",
    "                vj = np.array([x[j*2], x[j*2+1]])\n",
    "                den = (vi-vj)@(p[i]-p[j])-math.sqrt(sum([k**2 for k in p[j]-p[i]]))\n",
    "#                 if den==0:\n",
    "#                     print(j,i,vi,vj,p[j]-p[i],(vi-vj)@(p[i]-p[j]), math.sqrt(sum([k**2 for k in p[j]-p[i]])))\n",
    "                part2+=1/den\n",
    "    return part1+part2"
   ]
  },
  {
   "cell_type": "code",
   "execution_count": 57,
   "id": "562a3a79",
   "metadata": {},
   "outputs": [],
   "source": [
    "import scipy, random\n",
    "from scipy import optimize\n",
    "constraint=scipy.optimize.LinearConstraint(A, np.zeros(45), np.zeros(45), keep_feasible=False)\n",
    "# x0=[random.uniform(0, 1) for _ in range(56)]\n",
    "x0=np.zeros(56)\n",
    "m='SLSQP' #'Nelder-Mead'\n",
    "\n",
    "result = scipy.optimize.minimize(fun, x0, method=m, constraints=constraint)"
   ]
  },
  {
   "cell_type": "code",
   "execution_count": 59,
   "id": "a5561b4b",
   "metadata": {},
   "outputs": [
    {
     "data": {
      "text/plain": [
       "False"
      ]
     },
     "execution_count": 59,
     "metadata": {},
     "output_type": "execute_result"
    }
   ],
   "source": [
    "result.success"
   ]
  },
  {
   "cell_type": "code",
   "execution_count": 45,
   "id": "0b9929ab",
   "metadata": {},
   "outputs": [
    {
     "data": {
      "text/plain": [
       "[0.8776790066699018,\n",
       " 0.6131040452346279,\n",
       " 0.49962955591952796,\n",
       " 0.21520939237065628,\n",
       " 0.36773791073491324,\n",
       " 0.09705666988866812,\n",
       " 0.045400840652959906,\n",
       " 0.13554121411335374,\n",
       " 0.5223851000079575,\n",
       " 0.01587921305169948,\n",
       " 0.9889892554378894,\n",
       " 0.43499353020455334,\n",
       " 0.7554653811128478,\n",
       " 0.35219154226763405,\n",
       " 0.3489558263057828,\n",
       " 0.9095567212612203,\n",
       " 0.8776333462386892,\n",
       " 0.43919493034516677,\n",
       " 0.7736467135269638,\n",
       " 0.04890350042505032,\n",
       " 0.6673046745909123,\n",
       " 0.732994322184009,\n",
       " 0.3105453531636866,\n",
       " 0.40452439992255795,\n",
       " 0.7062821769749754,\n",
       " 0.5060672806515862,\n",
       " 0.6334857303833465,\n",
       " 0.7622993087458563,\n",
       " 0.49242614145902763,\n",
       " 0.9435520841114945,\n",
       " 0.24556522824223526,\n",
       " 0.41093768331235303,\n",
       " 0.6745421004865718,\n",
       " 0.8679683633308581,\n",
       " 0.13605810384060257,\n",
       " 0.5785750996206492,\n",
       " 0.5946535423770601,\n",
       " 0.9181674071186026,\n",
       " 0.08251935945400546,\n",
       " 0.43655921128658004,\n",
       " 0.3612340031181712,\n",
       " 0.7627568652819398,\n",
       " 0.06278123210574449,\n",
       " 0.8598533494138901,\n",
       " 0.440846819110146,\n",
       " 0.7681904002508118,\n",
       " 0.5054770776675882,\n",
       " 0.8442473766519142,\n",
       " 0.6889922143615634,\n",
       " 0.01969156766713187,\n",
       " 0.2215395936222493,\n",
       " 0.114338950444412,\n",
       " 0.2062574475939617,\n",
       " 0.1543024716155168,\n",
       " 0.307686392059326,\n",
       " 0.31834813116710736]"
      ]
     },
     "execution_count": 45,
     "metadata": {},
     "output_type": "execute_result"
    }
   ],
   "source": [
    "x0"
   ]
  }
 ],
 "metadata": {
  "kernelspec": {
   "display_name": "Python 3 (ipykernel)",
   "language": "python",
   "name": "python3"
  },
  "language_info": {
   "codemirror_mode": {
    "name": "ipython",
    "version": 3
   },
   "file_extension": ".py",
   "mimetype": "text/x-python",
   "name": "python",
   "nbconvert_exporter": "python",
   "pygments_lexer": "ipython3",
   "version": "3.9.7"
  }
 },
 "nbformat": 4,
 "nbformat_minor": 5
}
