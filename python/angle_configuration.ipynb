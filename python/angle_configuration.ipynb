{
 "cells": [
  {
   "cell_type": "code",
   "execution_count": 16,
   "id": "7728044e",
   "metadata": {},
   "outputs": [],
   "source": [
    "import numpy as np\n",
    "# coords = np.array([[0,0], [1,0], [3,5], [10,20]])"
   ]
  },
  {
   "cell_type": "code",
   "execution_count": 10,
   "id": "8ebc0d1d",
   "metadata": {},
   "outputs": [],
   "source": [
    "# converts coordinate configuration into angles configuration\n",
    "def coords2angle(coords):   \n",
    "    thetas = []\n",
    "    lengths = []\n",
    "    for ind in range(len(coords)-1):\n",
    "        edge = coords[ind+1] - coords[ind]\n",
    "        length = np.linalg.norm(edge)\n",
    "        lengths.append(length)\n",
    "        theta = np.arccos(edge[0]/length)\n",
    "        if edge[1]<0:\n",
    "            theta+=np.pi\n",
    "        thetas.append(theta)\n",
    "    return thetas, lengths"
   ]
  },
  {
   "cell_type": "code",
   "execution_count": 43,
   "id": "a0387ce2",
   "metadata": {},
   "outputs": [],
   "source": [
    "# converts angles configuration back to coordinate configuration\n",
    "import cmath\n",
    "def angle2coords(angles, lengths):\n",
    "    coords = [[0,0]]\n",
    "    for ind in range(len(angles)):\n",
    "        # Get the displacement of the new coord as a complex number\n",
    "        coord = lengths[ind] * np.exp(complex(0, angles[ind]))\n",
    "        # Convert the complex number to a coord and offset it with the last coord\n",
    "        coord = [coords[ind][0] + np.real(coord), coords[ind][1] + np.imag(coord)]\n",
    "        coords.append(coord)\n",
    "    return coords"
   ]
  },
  {
   "cell_type": "code",
   "execution_count": 21,
   "id": "075f4e38",
   "metadata": {},
   "outputs": [
    {
     "data": {
      "text/plain": [
       "(-1+1.2246467991473532e-16j)"
      ]
     },
     "execution_count": 21,
     "metadata": {},
     "output_type": "execute_result"
    }
   ],
   "source": [
    "import cmath\n",
    "np.exp(complex(0, np.pi))"
   ]
  },
  {
   "cell_type": "code",
   "execution_count": 13,
   "id": "bae336f5",
   "metadata": {},
   "outputs": [],
   "source": [
    "# computes `ENERGY` of a configuration\n",
    "def energy(coords):\n",
    "    E = 0\n",
    "    for ind in range(len(coords)-1):\n",
    "        u = coords[ind]\n",
    "        v = coords[ind+1]\n",
    "        edge = v - u\n",
    "        for curr in range(len(coords)):\n",
    "            if curr==ind or curr==ind+1:\n",
    "                continue\n",
    "            w = coords[curr]\n",
    "            E+=1/(np.linalg.norm(u-w)+np.linalg.norm(v-w)-np.linalg.norm(u-v))**2\n",
    "    return E"
   ]
  },
  {
   "cell_type": "code",
   "execution_count": 15,
   "id": "d80700f1",
   "metadata": {},
   "outputs": [
    {
     "data": {
      "text/plain": [
       "587.786229230512"
      ]
     },
     "execution_count": 15,
     "metadata": {},
     "output_type": "execute_result"
    }
   ],
   "source": [
    "energy(coords)"
   ]
  },
  {
   "cell_type": "code",
   "execution_count": 2,
   "id": "7fde2fd0",
   "metadata": {},
   "outputs": [
    {
     "data": {
      "text/plain": [
       "([0.0, 1.1902899496825317, 1.1341691669813554],\n",
       " [1.0, 5.385164807134504, 16.55294535724685])"
      ]
     },
     "execution_count": 2,
     "metadata": {},
     "output_type": "execute_result"
    }
   ],
   "source": [
    "coords2angle(coords)"
   ]
  },
  {
   "cell_type": "code",
   "execution_count": 14,
   "id": "ec8a19be",
   "metadata": {},
   "outputs": [
    {
     "data": {
      "text/plain": [
       "array([[0.  , 0.  ],\n",
       "       [1.  , 0.  ],\n",
       "       [1.  , 1.  ],\n",
       "       [0.  , 1.  ],\n",
       "       [0.  , 0.25],\n",
       "       [0.75, 0.25],\n",
       "       [0.75, 0.75],\n",
       "       [0.25, 0.75],\n",
       "       [0.25, 0.5 ],\n",
       "       [0.5 , 0.5 ]])"
      ]
     },
     "execution_count": 14,
     "metadata": {},
     "output_type": "execute_result"
    }
   ],
   "source": [
    "coords = np.array([[0.  , 0.  ],\n",
    "       [1.  , 0.  ],\n",
    "       [1.  , 1.  ],\n",
    "       [0.  , 1.  ],\n",
    "       [0.  , 0.25],\n",
    "       [0.75, 0.25],\n",
    "       [0.75, 0.75],\n",
    "       [0.25, 0.75],\n",
    "       [0.25, 0.5 ],\n",
    "       [0.5 , 0.5 ]])\n",
    "coords"
   ]
  },
  {
   "cell_type": "code",
   "execution_count": 45,
   "id": "59b5b2e9",
   "metadata": {},
   "outputs": [
    {
     "name": "stdout",
     "output_type": "stream",
     "text": [
      "[[0.   0.  ]\n",
      " [1.   0.  ]\n",
      " [1.   1.  ]\n",
      " [0.   1.  ]\n",
      " [0.   0.25]\n",
      " [0.75 0.25]\n",
      " [0.75 0.75]\n",
      " [0.25 0.75]\n",
      " [0.25 0.5 ]\n",
      " [0.5  0.5 ]]\n"
     ]
    },
    {
     "data": {
      "text/plain": [
       "[[0, 0],\n",
       " [1.0, 0.0],\n",
       " [1.0, 1.0],\n",
       " [0.0, 1.0000000000000002],\n",
       " [-1.3777276490407724e-16, 0.2500000000000002],\n",
       " [0.7499999999999999, 0.2500000000000002],\n",
       " [0.7499999999999999, 0.7500000000000002],\n",
       " [0.2499999999999999, 0.7500000000000003],\n",
       " [0.24999999999999983, 0.5000000000000003],\n",
       " [0.49999999999999983, 0.5000000000000003]]"
      ]
     },
     "execution_count": 45,
     "metadata": {},
     "output_type": "execute_result"
    }
   ],
   "source": [
    "print(coords)\n",
    "angles, lengths = coords2angle(coords)\n",
    "angle2coords(angles, lengths)"
   ]
  },
  {
   "cell_type": "code",
   "execution_count": null,
   "id": "22a2f59f",
   "metadata": {},
   "outputs": [],
   "source": []
  }
 ],
 "metadata": {
  "kernelspec": {
   "display_name": "Python 3 (ipykernel)",
   "language": "python",
   "name": "python3"
  },
  "language_info": {
   "codemirror_mode": {
    "name": "ipython",
    "version": 3
   },
   "file_extension": ".py",
   "mimetype": "text/x-python",
   "name": "python",
   "nbconvert_exporter": "python",
   "pygments_lexer": "ipython3",
   "version": "3.9.7"
  }
 },
 "nbformat": 4,
 "nbformat_minor": 5
}
