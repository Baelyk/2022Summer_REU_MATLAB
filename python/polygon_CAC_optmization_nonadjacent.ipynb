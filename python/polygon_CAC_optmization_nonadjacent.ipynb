{
 "cells": [
  {
   "cell_type": "code",
   "execution_count": 2,
   "id": "2e355607",
   "metadata": {},
   "outputs": [],
   "source": [
    "from expander import *\n",
    "import matplotlib.pyplot as plt\n",
    "import time\n",
    "from scipy.optimize import minimize\n",
    "from random import uniform\n",
    "from mpl_toolkits.mplot3d import Axes3D\n",
    "\n",
    "\n",
    "plt.rcParams[\"figure.figsize\"] = (10, 10)"
   ]
  },
  {
   "cell_type": "code",
   "execution_count": 12,
   "id": "322cb85c",
   "metadata": {},
   "outputs": [
    {
     "data": {
      "image/png": "[encoded data removed]",
      "text/plain": [
       "<Figure size 720x720 with 1 Axes>"
      ]
     },
     "metadata": {
      "needs_background": "light"
     },
     "output_type": "display_data"
    }
   ],
   "source": [
    "_=spiral(1/4,True,3)\n",
    "plt.savefig('spiral.png', dpi=300)"
   ]
  },
  {
   "cell_type": "code",
   "execution_count": null,
   "id": "0b29df34",
   "metadata": {},
   "outputs": [],
   "source": [
    "# generate a polygonal chain\n",
    "coords = polygon(20)\n",
    "\n",
    "# make into closed polygon\n",
    "coords = list(coords)\n",
    "coords.append(coords[0])\n",
    "coords = np.array(coords)\n",
    "\n",
    "# plot it\n",
    "fig, ax = plt.subplots()\n",
    "ax.axis('off')\n",
    "\n",
    "fig.patch.set_visible(False)\n",
    "\n",
    "ax.plot([i[0] for i in coords[:]],[i[1] for i in coords[:]], '-o')\n",
    "\n",
    "# get total chord length\n",
    "lengths, max_l = max_chord_length(coords, return_list=True)\n",
    "agg_lengths = compute_agg_lengths(lengths)\n",
    "max_l"
   ]
  },
  {
   "cell_type": "code",
   "execution_count": 3,
   "id": "495725f8",
   "metadata": {},
   "outputs": [],
   "source": [
    "coords=  [[0.21295919, 0.35851696],\n",
    "   [0.06802981, 0.23194622],\n",
    "   [0.15817489, 0.232926  ],\n",
    "   [0.00582565, 0.09752227],\n",
    "   [0.34000676, 0.00562013],\n",
    "   [0.53053042, 0.13721739],\n",
    "   [0.81967861, 0.1119647 ],\n",
    "   [0.75021684, 0.2704759 ],\n",
    "   [0.87309205, 0.36309878],\n",
    "   [0.87791688, 0.53876695],\n",
    "   [0.81544826, 0.56009931],\n",
    "   [0.79406274, 0.66765483],\n",
    "   [0.98578761, 0.95423054],\n",
    "   [0.46199101, 0.60797504],\n",
    "   [0.30335283, 0.91088259],\n",
    "   [0.13880206, 0.86081325],\n",
    "   [0.20784931, 0.71745157],\n",
    "   [0.06261577, 0.75796288],\n",
    "   [0.02995694, 0.72562561],\n",
    "   [0.35119741, 0.50980796],\n",
    "   [0.21295919, 0.35851696]]\n",
    "coords=np.array(coords)\n",
    "lengths, max_l = max_chord_length(coords, return_list=True)\n",
    "agg_lengths = compute_agg_lengths(lengths)\n",
    "# with open('coords.txt', 'w') as f:\n",
    "#     for i in L:\n",
    "#         f.write(str(i[0]))\n",
    "#         f.write(',')\n",
    "#         f.write(str(i[1]))\n",
    "#         f.write('\\n')"
   ]
  },
  {
   "cell_type": "code",
   "execution_count": null,
   "id": "0d6004d5",
   "metadata": {},
   "outputs": [],
   "source": [
    "# spiral(1/5, True)"
   ]
  },
  {
   "cell_type": "code",
   "execution_count": 4,
   "id": "36ae2cbb",
   "metadata": {},
   "outputs": [
    {
     "name": "stdout",
     "output_type": "stream",
     "text": [
      "0.23 s\n"
     ]
    },
    {
     "name": "stderr",
     "output_type": "stream",
     "text": [
      "/Library/Frameworks/Python.framework/Versions/3.9/lib/python3.9/site-packages/scipy/optimize/_numdiff.py:557: RuntimeWarning: invalid value encountered in subtract\n",
      "  df = fun(x) - f0\n"
     ]
    },
    {
     "data": {
      "text/plain": [
       "     fun: -8.47931485648836\n",
       " message: ['Maximum number of iteration reached']\n",
       "    nfev: 4435\n",
       "    nhev: 0\n",
       "     nit: 1000\n",
       "    njev: 144\n",
       "  status: 0\n",
       " success: True\n",
       "       x: array([3.00612747, 4.26239649])"
      ]
     },
     "execution_count": 4,
     "metadata": {},
     "output_type": "execute_result"
    }
   ],
   "source": [
    "# objective function\n",
    "# intentionally skip pairs of points on 2 adjacent edges which cause 0 gradient\n",
    "def fun(x):\n",
    "    a=x[0]\n",
    "    b=x[1]\n",
    "    if a>=b:\n",
    "        return float('inf')\n",
    "    if points_on_adjacent_edge(agg_lengths, a, b):\n",
    "        return float('inf')\n",
    "    return max(-max_l+b-a, -b+a)/(np.linalg.norm(gamma(coords, b, agg_lengths) - gamma(coords, a, agg_lengths)))\n",
    "\n",
    "x0=[uniform(0, max_l), uniform(0, max_l)]\n",
    "bnd = [(0,max_l),(0,max_l)]\n",
    "start = time.time()\n",
    "\n",
    "# res = scipy.optimize.basinhopping(fun, x0, niter=100, T=1.0, stepsize=0.5)\n",
    "# res = scipy.optimize.differential_evolution(fun, bounds=bnd, tol=1e-11)\n",
    "\n",
    "res = scipy.optimize.dual_annealing(fun, bounds=bnd, maxiter=1000, initial_temp=5e4, visit=2.9)\n",
    "\n",
    "# rranges = (slice(0, max_l, max_l/1000), slice(0, max_l, max_l/1000))\n",
    "# res = scipy.optimize.brute(fun, rranges, full_output=True,\n",
    "#                           finish=scipy.optimize.fmin)\n",
    "\n",
    "end = time.time()\n",
    "print(f'{end - start:.2f} s')\n",
    "# res[0],res[1]\n",
    "res"
   ]
  },
  {
   "cell_type": "code",
   "execution_count": null,
   "id": "80a18a21",
   "metadata": {},
   "outputs": [],
   "source": [
    "i = get_edge_ind(res.x[0])\n",
    "j = get_edge_ind(res.x[1])\n",
    "my_list = [point1]\n",
    "my_list.extend(coords[i:j-1])\n",
    "my_list.extend(point2)"
   ]
  },
  {
   "cell_type": "code",
   "execution_count": null,
   "id": "807bf97e",
   "metadata": {},
   "outputs": [],
   "source": [
    "point2"
   ]
  },
  {
   "cell_type": "code",
   "execution_count": null,
   "id": "e6e5551d",
   "metadata": {},
   "outputs": [],
   "source": [
    "my_list"
   ]
  },
  {
   "cell_type": "code",
   "execution_count": 9,
   "id": "cbd0296f",
   "metadata": {},
   "outputs": [
    {
     "data": {
      "image/png": "[encoded data removed]",
      "text/plain": [
       "<Figure size 720x720 with 1 Axes>"
      ]
     },
     "metadata": {
      "needs_background": "light"
     },
     "output_type": "display_data"
    }
   ],
   "source": [
    "# plot the 2 points that attain the maximum Chord Arc Constant\n",
    "fig, ax = plt.subplots()\n",
    "ax.axis('off')\n",
    "fig.patch.set_visible(False)\n",
    "ax.plot([i[0] for i in coords[:]],[i[1] for i in coords[:]], '-o', linewidth=3, c='#0000ff')\n",
    "\n",
    "# point1 = gamma(coords, res[0][0])\n",
    "# point2 = gamma(coords, res[0][1])\n",
    "\n",
    "point1 = gamma(coords, res.x[0])\n",
    "point2 = gamma(coords, res.x[1])\n",
    "\n",
    "\n",
    "i = get_edge_ind(agg_lengths,res.x[0])\n",
    "j = get_edge_ind(agg_lengths,res.x[1])\n",
    "my_list = [point1]\n",
    "my_list.extend(coords[i+1:j+1])\n",
    "my_list.extend([np.array(point2)])\n",
    "\n",
    "ax.plot([i[0] for i in my_list[:]],[i[1] for i in my_list[:]], '-o', c='#c5050c', linewidth=3)\n",
    "\n",
    "ax.plot(point1[0],point1[1], '-o', c='#c5050c', markersize=15)\n",
    "ax.plot(point2[0],point2[1], '-o', c='#c5050c', markersize=15)\n",
    "\n",
    "ax.plot([point1[0],point2[0]], [point1[1],point2[1]], '#c5050c', linestyle=\"--\", linewidth=3)\n",
    "\n",
    "# plt.plot(gamma(coords, 4)[0],gamma(coords, 4)[1], '-o', c='y', markersize=15)\n",
    "# plt.plot(gamma(coords, 3.8)[0],gamma(coords, 3.8)[1], '-o', c='g', markersize=15)\n",
    "plt.savefig('CA_def.png', dpi=300)"
   ]
  }
 ],
 "metadata": {
  "kernelspec": {
   "display_name": "Python 3 (ipykernel)",
   "language": "python",
   "name": "python3"
  },
  "language_info": {
   "codemirror_mode": {
    "name": "ipython",
    "version": 3
   },
   "file_extension": ".py",
   "mimetype": "text/x-python",
   "name": "python",
   "nbconvert_exporter": "python",
   "pygments_lexer": "ipython3",
   "version": "3.9.7"
  }
 },
 "nbformat": 4,
 "nbformat_minor": 5
}
