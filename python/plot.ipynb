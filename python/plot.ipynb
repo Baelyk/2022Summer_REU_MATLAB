{
 "cells": [
  {
   "cell_type": "code",
   "execution_count": 31,
   "id": "be7eee30",
   "metadata": {},
   "outputs": [],
   "source": [
    "# read in speeds and Chord-arc constants\n",
    "from numpy import genfromtxt\n",
    "import numpy as np\n",
    "# first column is speeds (y)\n",
    "# second column is chord-arc constants (x)\n",
    "my_data = genfromtxt('speeds_spiral3.csv', delimiter=',')\n",
    "x = my_data[:,1] # 2nd column\n",
    "y = my_data[:,0] # 1st column"
   ]
  },
  {
   "cell_type": "code",
   "execution_count": 32,
   "id": "a0f2b4a8",
   "metadata": {},
   "outputs": [],
   "source": [
    "import matplotlib.pyplot as plt\n",
    "# plt.scatter(x,y)\n",
    "\n",
    "# # x_min = np.percentile(x, 0)\n",
    "# x_max = np.percentile(x, 99)\n",
    "\n",
    "# # y_min = np.percentile(y, 0)\n",
    "# y_max = np.percentile(y, 99)\n",
    "\n",
    "# plt.xlim(0,x_max)\n",
    "# plt.ylim(0,y_max)"
   ]
  },
  {
   "cell_type": "code",
   "execution_count": 33,
   "id": "a9d016f2",
   "metadata": {},
   "outputs": [
    {
     "data": {
      "image/png": "[encoded data removed]",
      "text/plain": [
       "<Figure size 432x288 with 1 Axes>"
      ]
     },
     "metadata": {
      "needs_background": "light"
     },
     "output_type": "display_data"
    }
   ],
   "source": [
    "from matplotlib.pyplot import figure\n",
    "# figure(figsize=(8, 6),dpi=100)\n",
    "# plt.scatter(x,y,s=1)\n",
    "plt.scatter(x,y)\n",
    "_=plt.title('max speed vs chord arc (spirals)')"
   ]
  }
 ],
 "metadata": {
  "kernelspec": {
   "display_name": "Python 3 (ipykernel)",
   "language": "python",
   "name": "python3"
  },
  "language_info": {
   "codemirror_mode": {
    "name": "ipython",
    "version": 3
   },
   "file_extension": ".py",
   "mimetype": "text/x-python",
   "name": "python",
   "nbconvert_exporter": "python",
   "pygments_lexer": "ipython3",
   "version": "3.9.7"
  }
 },
 "nbformat": 4,
 "nbformat_minor": 5
}
