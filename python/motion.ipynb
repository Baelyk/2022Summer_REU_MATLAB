{
 "cells": [
  {
   "cell_type": "code",
   "execution_count": 1,
   "id": "1cd50177",
   "metadata": {},
   "outputs": [],
   "source": [
    "import numpy as np\n",
    "import sympy\n",
    "import matplotlib.pyplot as plt"
   ]
  },
  {
   "cell_type": "code",
   "execution_count": 30,
   "id": "473a754c",
   "metadata": {},
   "outputs": [
    {
     "data": {
      "text/plain": [
       "[<matplotlib.lines.Line2D at 0x7fea47c04880>]"
      ]
     },
     "execution_count": 30,
     "metadata": {},
     "output_type": "execute_result"
    },
    {
     "data": {
      "image/png": "[encoded data removed]",
      "text/plain": [
       "<Figure size 432x288 with 1 Axes>"
      ]
     },
     "metadata": {
      "needs_background": "light"
     },
     "output_type": "display_data"
    }
   ],
   "source": [
    "p1=[0,0]\n",
    "p2=[0,1]\n",
    "p3=[1/4,1/4]\n",
    "p4=[1,0]\n",
    "\n",
    "# plot the original\n",
    "P=[p1,p2,p3,p4,p1]\n",
    "plt.plot([i[0] for i in P],[i[1] for i in P], '-o')\n",
    "\n",
    "# iterate\n",
    "for _ in range(550):\n",
    "    # update A\n",
    "    A=[[p2[0]-p1[0], p2[1]-p1[1],           0,           0,  0, 0],\n",
    "       [p2[0]-p3[0], p2[1]-p3[1], p3[0]-p2[0], p3[1]-p2[1],  0, 0],\n",
    "       [          0,           0, p3[0]-p4[0], p3[1]-p4[1],  0, 0],\n",
    "       [          0,           0, p3[0]-p1[0], p3[1]-p1[1], -1, 0],\n",
    "       [p2[0]-p4[0], p2[1]-p4[1],           0,           0,  0,-1]]\n",
    "    A=np.array(A)\n",
    "    # x = [v2x, v2y, v3x, v3y, S1, S2]\n",
    "    # solve Ax=0\n",
    "    B = sympy.Matrix(A).rref()[0]\n",
    "    # update p's\n",
    "    v2x = -B[0,5]\n",
    "    v2y = -B[1,5]\n",
    "    v3x = -B[2,5]\n",
    "    v3y = -B[3,5]\n",
    "    const=1/1000\n",
    "    p2 = [p2[0]+v2x*const, p2[1]+v2y*const]\n",
    "#     print((p2[0]**2+p2[1]**2)**(0.5), _)\n",
    "    p3 = [p3[0]+v3x*const, p3[1]+v3y*const]\n",
    "    # plot\n",
    "#     P=[p1,p2,p3,p4,p1]\n",
    "#     plt.plot([i[0] for i in P],[i[1] for i in P], '-o')\n",
    "# print(A)\n",
    "P=[p1,p2,p3,p4,p1]\n",
    "plt.plot([i[0] for i in P],[i[1] for i in P], '-o')"
   ]
  },
  {
   "cell_type": "code",
   "execution_count": 31,
   "id": "b5c1802a",
   "metadata": {},
   "outputs": [
    {
     "name": "stdout",
     "output_type": "stream",
     "text": [
      "1.00030901480564\n"
     ]
    }
   ],
   "source": [
    "print((p2[0]**2+p2[1]**2)**(0.5))"
   ]
  },
  {
   "cell_type": "code",
   "execution_count": 12,
   "id": "55c5527b",
   "metadata": {},
   "outputs": [
    {
     "data": {
      "text/latex": [
       "$\\displaystyle \\left[\\begin{matrix}1 & 0 & 0 & 0 & 0 & 1.0\\\\0 & 1 & 0 & 0 & 0 & 0.284946390700981\\\\0 & 0 & 1 & 0 & 0 & -7.72396833902357\\\\0 & 0 & 0 & 1 & 0 & -10.7093875250049\\\\0 & 0 & 0 & 0 & 1 & -7.72396833902357\\end{matrix}\\right]$"
      ],
      "text/plain": [
       "Matrix([\n",
       "[1, 0, 0, 0, 0,               1.0],\n",
       "[0, 1, 0, 0, 0, 0.284946390700981],\n",
       "[0, 0, 1, 0, 0, -7.72396833902357],\n",
       "[0, 0, 0, 1, 0, -10.7093875250049],\n",
       "[0, 0, 0, 0, 1, -7.72396833902357]])"
      ]
     },
     "execution_count": 12,
     "metadata": {},
     "output_type": "execute_result"
    }
   ],
   "source": [
    "# B"
   ]
  }
 ],
 "metadata": {
  "kernelspec": {
   "display_name": "Python 3 (ipykernel)",
   "language": "python",
   "name": "python3"
  },
  "language_info": {
   "codemirror_mode": {
    "name": "ipython",
    "version": 3
   },
   "file_extension": ".py",
   "mimetype": "text/x-python",
   "name": "python",
   "nbconvert_exporter": "python",
   "pygments_lexer": "ipython3",
   "version": "3.9.7"
  }
 },
 "nbformat": 4,
 "nbformat_minor": 5
}
